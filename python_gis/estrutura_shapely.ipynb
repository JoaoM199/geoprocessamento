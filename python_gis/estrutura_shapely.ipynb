{
 "cells": [
  {
   "cell_type": "markdown",
   "id": "c661a969-13ed-47f2-ac10-70767ebd565d",
   "metadata": {},
   "source": [
    "# Introdução\n",
    "Objetivo: Entender conceito de ponto linha e polígono.\n"
   ]
  },
  {
   "cell_type": "code",
   "execution_count": 75,
   "id": "e374efde-6d5a-446b-bb1a-48bde84d9c22",
   "metadata": {},
   "outputs": [],
   "source": [
    "# Importando a biblioteca shapely \n",
    "from shapely.geometry import Point, LineString, Polygon;\n",
    "from shapely.geometry import MultiPoint, MultiLineString, MultiPolygon;"
   ]
  },
  {
   "cell_type": "markdown",
   "id": "32be85b6-6b08-42cf-968e-8c67d0ecdf68",
   "metadata": {},
   "source": [
    "## Pontos\n",
    "Formado por uma coordenada x e y. E em alguns casos inclui a coordenada z, exemplo altitude."
   ]
  },
  {
   "cell_type": "code",
   "execution_count": 41,
   "id": "2b677e6f-f3fc-4fb0-a62e-e3d9f94444e4",
   "metadata": {},
   "outputs": [],
   "source": [
    "# Pontos\n",
    "pontoA = Point(4.4, 8.4,1)\n",
    "pontoB = Point(-5.3,-10.3,1)\n",
    "pontoC = Point(8.5,-3.8,2)\n",
    "pontoD = Point(9.0, 2.0, 1)"
   ]
  },
  {
   "cell_type": "code",
   "execution_count": 42,
   "id": "762e5648-5390-4322-981f-5d0fe80b0bb2",
   "metadata": {},
   "outputs": [
    {
     "name": "stdout",
     "output_type": "stream",
     "text": [
      "<class 'shapely.geometry.point.Point'>\n",
      "POINT Z (4.4 8.4 1)\n"
     ]
    }
   ],
   "source": [
    "print(type(pontoA))\n",
    "print(pontoA)"
   ]
  },
  {
   "cell_type": "code",
   "execution_count": 43,
   "id": "e32379a1-8adc-4c0d-b2c9-ea5077f33f52",
   "metadata": {},
   "outputs": [
    {
     "name": "stdout",
     "output_type": "stream",
     "text": [
      "Obtendo coordenadas do ponto A\n",
      "(array('d', [4.4]), array('d', [8.4]))\n"
     ]
    }
   ],
   "source": [
    "## Coordenadas\n",
    "print((\"Obtendo coordenadas do ponto A\"))\n",
    "print(pontoA.coords.xy)"
   ]
  },
  {
   "cell_type": "code",
   "execution_count": 44,
   "id": "3b981f40-997b-4136-9f16-8e3da40f3461",
   "metadata": {},
   "outputs": [
    {
     "name": "stdout",
     "output_type": "stream",
     "text": [
      "Obtendo distância do ponto B até o A\n",
      "21.066086489901252\n"
     ]
    }
   ],
   "source": [
    "## Distância\n",
    "print('Obtendo distância do ponto B até o A')\n",
    "print(pontoB.distance(pontoA))"
   ]
  },
  {
   "cell_type": "markdown",
   "id": "f5e33a01-6f7e-4571-a4db-9579f8793742",
   "metadata": {},
   "source": [
    "## Linestring\n",
    "### Estrutura: \n",
    "<code>LineString([(x,y), (x,y), (x,y)])</code> <br/>\n",
    "Resumindo: Um array de coordenadas"
   ]
  },
  {
   "cell_type": "code",
   "execution_count": 45,
   "id": "d7508484-60e5-48de-999a-bce45ab54155",
   "metadata": {},
   "outputs": [
    {
     "data": {
      "image/svg+xml": [
       "<svg xmlns=\"http://www.w3.org/2000/svg\" xmlns:xlink=\"http://www.w3.org/1999/xlink\" width=\"100.0\" height=\"100.0\" viewBox=\"-6.048 -11.048 15.296 20.195999999999998\" preserveAspectRatio=\"xMinYMin meet\"><g transform=\"matrix(1,0,0,-1,0,-1.9000000000000004)\"><polyline fill=\"none\" stroke=\"#66cc99\" stroke-width=\"0.40391999999999995\" points=\"4.4,8.4 -5.3,-10.3 8.5,-3.8\" opacity=\"0.8\" /></g></svg>"
      ],
      "text/plain": [
       "<LINESTRING Z (4.4 8.4 1, -5.3 -10.3 1, 8.5 -3.8 2)>"
      ]
     },
     "execution_count": 45,
     "metadata": {},
     "output_type": "execute_result"
    }
   ],
   "source": [
    "linhaABC = LineString([pontoA, pontoB, pontoC])\n",
    "linhaABC"
   ]
  },
  {
   "cell_type": "code",
   "execution_count": 46,
   "id": "c20ba528-ee7c-42f9-90d4-aaea6d60bff2",
   "metadata": {},
   "outputs": [
    {
     "name": "stdout",
     "output_type": "stream",
     "text": [
      "LINESTRING Z (4.4 8.4 1, -5.3 -10.3 1, 8.5 -3.8 2)\n"
     ]
    }
   ],
   "source": [
    "print(linhaABC)"
   ]
  },
  {
   "cell_type": "code",
   "execution_count": 47,
   "id": "8a7d1045-2a4b-4fb4-bfe1-ac41d9be8115",
   "metadata": {},
   "outputs": [
    {
     "data": {
      "image/svg+xml": [
       "<svg xmlns=\"http://www.w3.org/2000/svg\" xmlns:xlink=\"http://www.w3.org/1999/xlink\" width=\"100.0\" height=\"100.0\" viewBox=\"-5.772 -9.171999999999999 11.644 12.744\" preserveAspectRatio=\"xMinYMin meet\"><g transform=\"matrix(1,0,0,-1,0,-5.599999999999999)\"><polyline fill=\"none\" stroke=\"#66cc99\" stroke-width=\"0.25488\" points=\"0.0,3.1 5.4,-2.1 -5.3,-8.7\" opacity=\"0.8\" /></g></svg>"
      ],
      "text/plain": [
       "<LINESTRING (0 3.1, 5.4 -2.1, -5.3 -8.7)>"
      ]
     },
     "execution_count": 47,
     "metadata": {},
     "output_type": "execute_result"
    }
   ],
   "source": [
    "# Também é possível inserir as coordenas individualmente\n",
    "linha2 = LineString([(0.0, 3.1), (5.4, -2.1), (-5.3, - 8.7)])\n",
    "linha2"
   ]
  },
  {
   "cell_type": "code",
   "execution_count": 48,
   "id": "22500f8e-8213-4384-82c1-10f9b72b2037",
   "metadata": {},
   "outputs": [
    {
     "name": "stdout",
     "output_type": "stream",
     "text": [
      "<class 'shapely.geometry.linestring.LineString'>\n",
      "LINESTRING (0 3.1, 5.4 -2.1, -5.3 -8.7)\n"
     ]
    }
   ],
   "source": [
    "print(type(linha2))\n",
    "print(linha2)"
   ]
  },
  {
   "cell_type": "code",
   "execution_count": 49,
   "id": "77f3f2ab-122c-4d71-a087-e565ce82a337",
   "metadata": {},
   "outputs": [
    {
     "data": {
      "text/plain": [
       "array('d', [3.1, -2.1, -8.7])"
      ]
     },
     "execution_count": 49,
     "metadata": {},
     "output_type": "execute_result"
    }
   ],
   "source": [
    "# Também é possível extrair a posição das tuplas\n",
    "linha2.xy[0]\n",
    "linha2.xy[1]"
   ]
  },
  {
   "cell_type": "code",
   "execution_count": 50,
   "id": "70a81dc0-0b63-4fc6-90e1-5f79a663c184",
   "metadata": {},
   "outputs": [
    {
     "name": "stdout",
     "output_type": "stream",
     "text": [
      "20.068459751459244\n",
      "36.32026624497166\n"
     ]
    }
   ],
   "source": [
    "# É possível calcular a distância de uma linha\n",
    "print(linha2.length)\n",
    "print(linhaABC.length)"
   ]
  },
  {
   "cell_type": "code",
   "execution_count": 51,
   "id": "e1e655f0-c322-4341-bb6c-85df6ee2aea7",
   "metadata": {},
   "outputs": [
    {
     "data": {
      "image/svg+xml": [
       "<svg xmlns=\"http://www.w3.org/2000/svg\" xmlns:xlink=\"http://www.w3.org/1999/xlink\" width=\"100.0\" height=\"100.0\" viewBox=\"-0.5890187426772056 -4.511944229106852 2.0 2.0000000000000004\" preserveAspectRatio=\"xMinYMin meet\"><g transform=\"matrix(1,0,0,-1,0,-7.023888458213705)\"><circle cx=\"0.41098125732279445\" cy=\"-3.511944229106852\" r=\"0.06000000000000001\" stroke=\"#555555\" stroke-width=\"0.020000000000000004\" fill=\"#66cc99\" opacity=\"0.6\" /></g></svg>"
      ],
      "text/plain": [
       "<POINT (0.411 -3.512)>"
      ]
     },
     "execution_count": 51,
     "metadata": {},
     "output_type": "execute_result"
    }
   ],
   "source": [
    "linhaABC.centroid"
   ]
  },
  {
   "cell_type": "code",
   "execution_count": 52,
   "id": "cddd56b0-d03e-4f95-acc3-80a42a8e7ae2",
   "metadata": {},
   "outputs": [
    {
     "name": "stdout",
     "output_type": "stream",
     "text": [
      "POINT (0.4109812573227944 -3.511944229106852)\n"
     ]
    }
   ],
   "source": [
    "print(linhaABC.centroid)"
   ]
  },
  {
   "cell_type": "markdown",
   "id": "c6b898ff-fe34-492e-8369-ff743d1ab352",
   "metadata": {},
   "source": [
    "## Polígonos\n",
    "É uma tupla de coordenadas, assim como uma linha, com o diferencial que a última coordenada é igual a primeira (fechamento) <br/>\n",
    "Estrutura: <code>Polygon([(x,y), (x,y), (x,y)])</code> <br/>\n",
    "Ele entende que se trata de um objeto do tipo polígono, portanto ele repete automaticamente a última coordenada"
   ]
  },
  {
   "cell_type": "code",
   "execution_count": 53,
   "id": "db6284be-0b88-4422-b139-e24595efa6db",
   "metadata": {},
   "outputs": [
    {
     "data": {
      "image/svg+xml": [
       "<svg xmlns=\"http://www.w3.org/2000/svg\" xmlns:xlink=\"http://www.w3.org/1999/xlink\" width=\"100.0\" height=\"100.0\" viewBox=\"-5.772 -9.171999999999999 11.644 12.744\" preserveAspectRatio=\"xMinYMin meet\"><g transform=\"matrix(1,0,0,-1,0,-5.599999999999999)\"><path fill-rule=\"evenodd\" fill=\"#66cc99\" stroke=\"#555555\" stroke-width=\"0.25488\" opacity=\"0.6\" d=\"M 0.0,3.1 L 5.4,-2.1 L -5.3,-8.7 L 0.0,3.1 z\" /></g></svg>"
      ],
      "text/plain": [
       "<POLYGON ((0 3.1, 5.4 -2.1, -5.3 -8.7, 0 3.1))>"
      ]
     },
     "execution_count": 53,
     "metadata": {},
     "output_type": "execute_result"
    }
   ],
   "source": [
    "poly1 = Polygon([(0.0, 3.1), (5.4, -2.1), (-5.3, - 8.7)])\n",
    "poly1"
   ]
  },
  {
   "cell_type": "code",
   "execution_count": 54,
   "id": "efa8f2c3-88da-45d0-bf39-de067cf3f8e9",
   "metadata": {},
   "outputs": [
    {
     "name": "stdout",
     "output_type": "stream",
     "text": [
      "POLYGON ((0 3.1, 5.4 -2.1, -5.3 -8.7, 0 3.1))\n"
     ]
    }
   ],
   "source": [
    "print(poly1)"
   ]
  },
  {
   "cell_type": "code",
   "execution_count": 55,
   "id": "934e187a-cd7b-4c3c-8cea-83852185d1bb",
   "metadata": {},
   "outputs": [],
   "source": [
    "lista_coordenadasABCD = [pontoA, pontoB, pontoC, pontoD]"
   ]
  },
  {
   "cell_type": "code",
   "execution_count": 56,
   "id": "df1563ba-e1b9-467a-beb5-89e5761e36cc",
   "metadata": {},
   "outputs": [
    {
     "data": {
      "image/svg+xml": [
       "<svg xmlns=\"http://www.w3.org/2000/svg\" xmlns:xlink=\"http://www.w3.org/1999/xlink\" width=\"100.0\" height=\"100.0\" viewBox=\"-6.048 -11.048 15.796 20.195999999999998\" preserveAspectRatio=\"xMinYMin meet\"><g transform=\"matrix(1,0,0,-1,0,-1.9000000000000004)\"><path fill-rule=\"evenodd\" fill=\"#66cc99\" stroke=\"#555555\" stroke-width=\"0.40391999999999995\" opacity=\"0.6\" d=\"M 4.4,8.4 L -5.3,-10.3 L 8.5,-3.8 L 9.0,2.0 L 4.4,8.4 z\" /></g></svg>"
      ],
      "text/plain": [
       "<POLYGON Z ((4.4 8.4 1, -5.3 -10.3 1, 8.5 -3.8 2, 9 2 1, 4.4 8.4 1))>"
      ]
     },
     "execution_count": 56,
     "metadata": {},
     "output_type": "execute_result"
    }
   ],
   "source": [
    "poly2 = Polygon(lista_coordenadasABCD)\n",
    "poly2"
   ]
  },
  {
   "cell_type": "code",
   "execution_count": 58,
   "id": "bd9584f6-131c-4c16-859b-980bb68633cb",
   "metadata": {},
   "outputs": [
    {
     "data": {
      "image/svg+xml": [
       "<svg xmlns=\"http://www.w3.org/2000/svg\" xmlns:xlink=\"http://www.w3.org/1999/xlink\" width=\"100.0\" height=\"100.0\" viewBox=\"2.1666562912238576 -2.3552536795766823 1.9999999999999996 2.0\" preserveAspectRatio=\"xMinYMin meet\"><g transform=\"matrix(1,0,0,-1,0,-2.7105073591533646)\"><circle cx=\"3.1666562912238576\" cy=\"-1.355253679576682\" r=\"0.06\" stroke=\"#555555\" stroke-width=\"0.02\" fill=\"#66cc99\" opacity=\"0.6\" /></g></svg>"
      ],
      "text/plain": [
       "<POINT (3.167 -1.355)>"
      ]
     },
     "execution_count": 58,
     "metadata": {},
     "output_type": "execute_result"
    }
   ],
   "source": [
    "poly2.centroid"
   ]
  },
  {
   "cell_type": "code",
   "execution_count": 59,
   "id": "2e53c4cc",
   "metadata": {},
   "outputs": [
    {
     "data": {
      "image/svg+xml": [
       "<svg xmlns=\"http://www.w3.org/2000/svg\" xmlns:xlink=\"http://www.w3.org/1999/xlink\" width=\"100.0\" height=\"100.0\" viewBox=\"-6.048 -11.048 15.796 20.195999999999998\" preserveAspectRatio=\"xMinYMin meet\"><g transform=\"matrix(1,0,0,-1,0,-1.9000000000000004)\"><path fill-rule=\"evenodd\" fill=\"#66cc99\" stroke=\"#555555\" stroke-width=\"0.40391999999999995\" opacity=\"0.6\" d=\"M 4.4,8.4 L -5.3,-10.3 L 8.5,-3.8 L 9.0,2.0 L 4.4,8.4 z\" /></g></svg>"
      ],
      "text/plain": [
       "<POLYGON ((4.4 8.4, -5.3 -10.3, 8.5 -3.8, 9 2, 4.4 8.4))>"
      ]
     },
     "execution_count": 59,
     "metadata": {},
     "output_type": "execute_result"
    }
   ],
   "source": [
    "poly_campo = Polygon([[i.x, i.y] for i in lista_coordenadasABCD])\n",
    "poly_campo"
   ]
  },
  {
   "cell_type": "code",
   "execution_count": 67,
   "id": "cf86aa84",
   "metadata": {},
   "outputs": [
    {
     "name": "stdout",
     "output_type": "stream",
     "text": [
      "Tipo de geometria: Polygon\n",
      "Área:  112.445 m**2\n",
      "Coordenadas exteriores: (-5.3, -10.3, 9.0, 8.4)\n"
     ]
    }
   ],
   "source": [
    "print(\"Tipo de geometria:\", poly_campo.geom_type)\n",
    "print(\"Área: \", poly_campo.area, \"m**2\")\n",
    "print(\"Coordenadas exteriores:\", poly_campo.bounds)"
   ]
  },
  {
   "cell_type": "code",
   "execution_count": 68,
   "id": "069e6ecc",
   "metadata": {},
   "outputs": [
    {
     "data": {
      "image/svg+xml": [
       "<svg xmlns=\"http://www.w3.org/2000/svg\" xmlns:xlink=\"http://www.w3.org/1999/xlink\" width=\"100.0\" height=\"100.0\" viewBox=\"-6.048 -11.048 15.796 20.195999999999998\" preserveAspectRatio=\"xMinYMin meet\"><g transform=\"matrix(1,0,0,-1,0,-1.9000000000000004)\"><polyline fill=\"none\" stroke=\"#66cc99\" stroke-width=\"0.40391999999999995\" points=\"4.4,8.4 -5.3,-10.3 8.5,-3.8 9.0,2.0 4.4,8.4\" opacity=\"0.8\" /></g></svg>"
      ],
      "text/plain": [
       "<LINESTRING (4.4 8.4, -5.3 -10.3, 8.5 -3.8, 9 2, 4.4 8.4)>"
      ]
     },
     "execution_count": 68,
     "metadata": {},
     "output_type": "execute_result"
    }
   ],
   "source": [
    "poly_campo.boundary"
   ]
  },
  {
   "cell_type": "code",
   "execution_count": 73,
   "id": "f50afad4",
   "metadata": {},
   "outputs": [
    {
     "name": "stdout",
     "output_type": "stream",
     "text": [
      "Perímetro: 50.02340227419803\n"
     ]
    }
   ],
   "source": [
    "poly_campo_exterior = poly_campo.exterior\n",
    "print(\"Perímetro:\",poly_campo_exterior.length)"
   ]
  },
  {
   "cell_type": "markdown",
   "id": "60397a14",
   "metadata": {},
   "source": [
    "## Multipoint, MultLineString e Multipolygon"
   ]
  },
  {
   "cell_type": "code",
   "execution_count": 79,
   "id": "5f5902b9",
   "metadata": {},
   "outputs": [
    {
     "data": {
      "image/svg+xml": [
       "<svg xmlns=\"http://www.w3.org/2000/svg\" xmlns:xlink=\"http://www.w3.org/1999/xlink\" width=\"100.0\" height=\"100.0\" viewBox=\"-6.048 -11.048 15.796 20.195999999999998\" preserveAspectRatio=\"xMinYMin meet\"><g transform=\"matrix(1,0,0,-1,0,-1.9000000000000004)\"><g><circle cx=\"4.4\" cy=\"8.4\" r=\"0.60588\" stroke=\"#555555\" stroke-width=\"0.20195999999999997\" fill=\"#66cc99\" opacity=\"0.6\" /><circle cx=\"-5.3\" cy=\"-10.3\" r=\"0.60588\" stroke=\"#555555\" stroke-width=\"0.20195999999999997\" fill=\"#66cc99\" opacity=\"0.6\" /><circle cx=\"8.5\" cy=\"-3.8\" r=\"0.60588\" stroke=\"#555555\" stroke-width=\"0.20195999999999997\" fill=\"#66cc99\" opacity=\"0.6\" /><circle cx=\"9.0\" cy=\"2.0\" r=\"0.60588\" stroke=\"#555555\" stroke-width=\"0.20195999999999997\" fill=\"#66cc99\" opacity=\"0.6\" /></g></g></svg>"
      ],
      "text/plain": [
       "<MULTIPOINT Z (4.4 8.4 1, -5.3 -10.3 1, 8.5 -3.8 2, 9 2 1)>"
      ]
     },
     "execution_count": 79,
     "metadata": {},
     "output_type": "execute_result"
    }
   ],
   "source": [
    "multiponto1 = MultiPoint([[4.4, 8.4,1], [-5.3,-10.3,1], [8.5,-3.8,2], [9.0, 2.0, 1]])\n",
    "multiponto1"
   ]
  },
  {
   "cell_type": "code",
   "execution_count": 83,
   "id": "9fbce8e4",
   "metadata": {},
   "outputs": [
    {
     "name": "stdout",
     "output_type": "stream",
     "text": [
      "4\n",
      "<class 'shapely.geometry.base.GeometrySequence'>\n"
     ]
    }
   ],
   "source": [
    "print(len(multiponto1.geoms))\n",
    "print(type(multiponto1.geoms))"
   ]
  },
  {
   "cell_type": "code",
   "execution_count": 84,
   "id": "d588e9f8",
   "metadata": {},
   "outputs": [],
   "source": [
    "multiponto2 = MultiPoint([[-5.3, 2.1,1], [-4.5,-12.3,3], [12.4,-3.9,2], [7.0, 5.0, 1]])\n",
    "multiponto3 = MultiPoint([[-7.2, 5.3,3], [-2.4,3.8,2], [5.4,-5,1], [5.2, 3.0, 0]])"
   ]
  },
  {
   "cell_type": "code",
   "execution_count": 87,
   "id": "def8b87b",
   "metadata": {},
   "outputs": [
    {
     "data": {
      "text/plain": [
       "[<MULTIPOINT Z (4.4 8.4 1, -5.3 -10.3 1, 8.5 -3.8 2, 9 2 1)>,\n",
       " <MULTIPOINT Z (-5.3 2.1 1, -4.5 -12.3 3, 12.4 -3.9 2, 7 5 1)>,\n",
       " <MULTIPOINT Z (-7.2 5.3 3, -2.4 3.8 2, 5.4 -5 1, 5.2 3 0)>]"
      ]
     },
     "execution_count": 87,
     "metadata": {},
     "output_type": "execute_result"
    }
   ],
   "source": [
    "multiLinha = ([multiponto1, multiponto2, multiponto3])\n",
    "multiLinha"
   ]
  },
  {
   "cell_type": "code",
   "execution_count": 88,
   "id": "5d348313",
   "metadata": {},
   "outputs": [
    {
     "data": {
      "text/plain": [
       "[<MULTIPOINT Z (4.4 8.4 1, -5.3 -10.3 1, 8.5 -3.8 2, 9 2 1)>,\n",
       " <MULTIPOINT Z (-5.3 2.1 1, -4.5 -12.3 3, 12.4 -3.9 2, 7 5 1)>,\n",
       " <MULTIPOINT Z (-7.2 5.3 3, -2.4 3.8 2, 5.4 -5 1, 5.2 3 0)>]"
      ]
     },
     "execution_count": 88,
     "metadata": {},
     "output_type": "execute_result"
    }
   ],
   "source": [
    "multiPoly = ([multiponto1, multiponto2, multiponto3])\n",
    "multiPoly"
   ]
  }
 ],
 "metadata": {
  "kernelspec": {
   "display_name": ".venv",
   "language": "python",
   "name": "python3"
  },
  "language_info": {
   "codemirror_mode": {
    "name": "ipython",
    "version": 3
   },
   "file_extension": ".py",
   "mimetype": "text/x-python",
   "name": "python",
   "nbconvert_exporter": "python",
   "pygments_lexer": "ipython3",
   "version": "3.12.4"
  }
 },
 "nbformat": 4,
 "nbformat_minor": 5
}
