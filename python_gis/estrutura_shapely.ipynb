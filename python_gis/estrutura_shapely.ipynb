{
 "cells": [
  {
   "cell_type": "markdown",
   "id": "c661a969-13ed-47f2-ac10-70767ebd565d",
   "metadata": {},
   "source": [
    "# Introdução\n",
    "Objetivo: Entender conceito de pontos, linhas e polígonos.\n"
   ]
  },
  {
   "cell_type": "code",
   "execution_count": 1,
   "id": "e374efde-6d5a-446b-bb1a-48bde84d9c22",
   "metadata": {},
   "outputs": [],
   "source": [
    "# Importando a biblioteca shapely \n",
    "from shapely.geometry import Point, LineString, Polygon;\n",
    "from shapely.geometry import MultiPoint, MultiLineString, MultiPolygon;"
   ]
  },
  {
   "cell_type": "markdown",
   "id": "32be85b6-6b08-42cf-968e-8c67d0ecdf68",
   "metadata": {},
   "source": [
    "## Pontos\n",
    "Formado por uma coordenada x e y. E em alguns casos inclui a coordenada z, exemplo altitude."
   ]
  },
  {
   "cell_type": "code",
   "execution_count": 2,
   "id": "2b677e6f-f3fc-4fb0-a62e-e3d9f94444e4",
   "metadata": {},
   "outputs": [],
   "source": [
    "# Pontos\n",
    "pontoA = Point(4.4, 8.4,1)\n",
    "pontoB = Point(-5.3,-10.3,1)\n",
    "pontoC = Point(8.5,-3.8,2)\n",
    "pontoD = Point(9.0, 2.0, 1)"
   ]
  },
  {
   "cell_type": "code",
   "execution_count": null,
   "id": "762e5648-5390-4322-981f-5d0fe80b0bb2",
   "metadata": {},
   "outputs": [],
   "source": [
    "print(type(pontoA))\n",
    "print(pontoA)"
   ]
  },
  {
   "cell_type": "code",
   "execution_count": null,
   "id": "e32379a1-8adc-4c0d-b2c9-ea5077f33f52",
   "metadata": {},
   "outputs": [],
   "source": [
    "## Coordenadas\n",
    "print((\"Obtendo coordenadas do ponto A\"))\n",
    "print(pontoA.coords.xy)"
   ]
  },
  {
   "cell_type": "code",
   "execution_count": null,
   "id": "3b981f40-997b-4136-9f16-8e3da40f3461",
   "metadata": {},
   "outputs": [],
   "source": [
    "## Distância\n",
    "print('Obtendo distância do ponto B até o A')\n",
    "print(pontoB.distance(pontoA))"
   ]
  },
  {
   "cell_type": "markdown",
   "id": "f5e33a01-6f7e-4571-a4db-9579f8793742",
   "metadata": {},
   "source": [
    "## Linestring\n",
    "### Estrutura: \n",
    "<code>LineString([(x,y), (x,y), (x,y)])</code> <br/>\n",
    "Resumindo: Um array de coordenadas"
   ]
  },
  {
   "cell_type": "code",
   "execution_count": null,
   "id": "d7508484-60e5-48de-999a-bce45ab54155",
   "metadata": {},
   "outputs": [],
   "source": [
    "linhaABC = LineString([pontoA, pontoB, pontoC])\n",
    "linhaABC"
   ]
  },
  {
   "cell_type": "code",
   "execution_count": null,
   "id": "c20ba528-ee7c-42f9-90d4-aaea6d60bff2",
   "metadata": {},
   "outputs": [],
   "source": [
    "print(linhaABC)"
   ]
  },
  {
   "cell_type": "code",
   "execution_count": null,
   "id": "8a7d1045-2a4b-4fb4-bfe1-ac41d9be8115",
   "metadata": {},
   "outputs": [],
   "source": [
    "# Também é possível inserir as coordenas individualmente\n",
    "linha2 = LineString([(0.0, 3.1), (5.4, -2.1), (-5.3, - 8.7)])\n",
    "linha2"
   ]
  },
  {
   "cell_type": "code",
   "execution_count": null,
   "id": "22500f8e-8213-4384-82c1-10f9b72b2037",
   "metadata": {},
   "outputs": [],
   "source": [
    "print(type(linha2))\n",
    "print(linha2)"
   ]
  },
  {
   "cell_type": "code",
   "execution_count": null,
   "id": "77f3f2ab-122c-4d71-a087-e565ce82a337",
   "metadata": {},
   "outputs": [],
   "source": [
    "# Também é possível extrair a posição das tuplas\n",
    "linha2.xy[0]\n",
    "linha2.xy[1]"
   ]
  },
  {
   "cell_type": "code",
   "execution_count": null,
   "id": "70a81dc0-0b63-4fc6-90e1-5f79a663c184",
   "metadata": {},
   "outputs": [],
   "source": [
    "# É possível calcular a distância de uma linha\n",
    "print(linha2.length)\n",
    "print(linhaABC.length)"
   ]
  },
  {
   "cell_type": "code",
   "execution_count": null,
   "id": "e1e655f0-c322-4341-bb6c-85df6ee2aea7",
   "metadata": {},
   "outputs": [],
   "source": [
    "linhaABC.centroid"
   ]
  },
  {
   "cell_type": "code",
   "execution_count": null,
   "id": "cddd56b0-d03e-4f95-acc3-80a42a8e7ae2",
   "metadata": {},
   "outputs": [],
   "source": [
    "print(linhaABC.centroid)"
   ]
  },
  {
   "cell_type": "markdown",
   "id": "c6b898ff-fe34-492e-8369-ff743d1ab352",
   "metadata": {},
   "source": [
    "## Polígonos\n",
    "É uma tupla de coordenadas, assim como uma linha, com o diferencial que a última coordenada é igual a primeira (fechamento) <br/>\n",
    "Estrutura: <code>Polygon([(x,y), (x,y), (x,y)])</code> <br/>\n",
    "Ele entende que se trata de um objeto do tipo polígono, portanto ele repete automaticamente a última coordenada"
   ]
  },
  {
   "cell_type": "code",
   "execution_count": null,
   "id": "db6284be-0b88-4422-b139-e24595efa6db",
   "metadata": {},
   "outputs": [],
   "source": [
    "poly1 = Polygon([(0.0, 3.1), (5.4, -2.1), (-5.3, - 8.7)])\n",
    "poly1"
   ]
  },
  {
   "cell_type": "code",
   "execution_count": null,
   "id": "efa8f2c3-88da-45d0-bf39-de067cf3f8e9",
   "metadata": {},
   "outputs": [],
   "source": [
    "print(poly1)"
   ]
  },
  {
   "cell_type": "code",
   "execution_count": 16,
   "id": "934e187a-cd7b-4c3c-8cea-83852185d1bb",
   "metadata": {},
   "outputs": [],
   "source": [
    "lista_coordenadasABCD = [pontoA, pontoB, pontoC, pontoD]"
   ]
  },
  {
   "cell_type": "code",
   "execution_count": null,
   "id": "df1563ba-e1b9-467a-beb5-89e5761e36cc",
   "metadata": {},
   "outputs": [],
   "source": [
    "poly2 = Polygon(lista_coordenadasABCD)\n",
    "poly2"
   ]
  },
  {
   "cell_type": "code",
   "execution_count": null,
   "id": "bd9584f6-131c-4c16-859b-980bb68633cb",
   "metadata": {},
   "outputs": [],
   "source": [
    "poly2.centroid"
   ]
  },
  {
   "cell_type": "code",
   "execution_count": null,
   "id": "2e53c4cc",
   "metadata": {},
   "outputs": [],
   "source": [
    "poly_campo = Polygon([[i.x, i.y] for i in lista_coordenadasABCD])\n",
    "poly_campo"
   ]
  },
  {
   "cell_type": "code",
   "execution_count": null,
   "id": "cf86aa84",
   "metadata": {},
   "outputs": [],
   "source": [
    "print(\"Tipo de geometria:\", poly_campo.geom_type)\n",
    "print(\"Área: \", poly_campo.area, \"m**2\")\n",
    "print(\"Coordenadas exteriores:\", poly_campo.bounds)"
   ]
  },
  {
   "cell_type": "code",
   "execution_count": null,
   "id": "069e6ecc",
   "metadata": {},
   "outputs": [],
   "source": [
    "poly_campo.boundary"
   ]
  },
  {
   "cell_type": "code",
   "execution_count": null,
   "id": "f50afad4",
   "metadata": {},
   "outputs": [],
   "source": [
    "poly_campo_exterior = poly_campo.exterior\n",
    "print(\"Perímetro:\",poly_campo_exterior.length)"
   ]
  },
  {
   "cell_type": "markdown",
   "id": "60397a14",
   "metadata": {},
   "source": [
    "## Multipoint, MultLineString e Multipolygon"
   ]
  },
  {
   "cell_type": "code",
   "execution_count": null,
   "id": "5f5902b9",
   "metadata": {},
   "outputs": [],
   "source": [
    "multiponto1 = MultiPoint([[4.4, 8.4,1], [-5.3,-10.3,1], [8.5,-3.8,2], [9.0, 2.0, 1]])\n",
    "multiponto1"
   ]
  },
  {
   "cell_type": "code",
   "execution_count": null,
   "id": "9fbce8e4",
   "metadata": {},
   "outputs": [],
   "source": [
    "print(len(multiponto1.geoms))\n",
    "print(type(multiponto1.geoms))"
   ]
  },
  {
   "cell_type": "code",
   "execution_count": 25,
   "id": "d588e9f8",
   "metadata": {},
   "outputs": [],
   "source": [
    "multiponto2 = MultiPoint([[-5.3, 2.1,1], [-4.5,-12.3,3], [12.4,-3.9,2], [7.0, 5.0, 1]])\n",
    "multiponto3 = MultiPoint([[-7.2, 5.3,3], [-2.4,3.8,2], [5.4,-5,1], [5.2, 3.0, 0]])"
   ]
  },
  {
   "cell_type": "code",
   "execution_count": null,
   "id": "def8b87b",
   "metadata": {},
   "outputs": [],
   "source": [
    "multiLinha = ([multiponto1, multiponto2, multiponto3])\n",
    "multiLinha"
   ]
  },
  {
   "cell_type": "code",
   "execution_count": null,
   "id": "5d348313",
   "metadata": {},
   "outputs": [],
   "source": [
    "multiPoly = ([multiponto1, multiponto2, multiponto3])\n",
    "multiPoly"
   ]
  }
 ],
 "metadata": {
  "kernelspec": {
   "display_name": ".venv",
   "language": "python",
   "name": "python3"
  },
  "language_info": {
   "codemirror_mode": {
    "name": "ipython",
    "version": 3
   },
   "file_extension": ".py",
   "mimetype": "text/x-python",
   "name": "python",
   "nbconvert_exporter": "python",
   "pygments_lexer": "ipython3",
   "version": "3.12.4"
  }
 },
 "nbformat": 4,
 "nbformat_minor": 5
}
