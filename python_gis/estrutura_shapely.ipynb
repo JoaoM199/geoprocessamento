{
 "cells": [
  {
   "cell_type": "markdown",
   "id": "c661a969-13ed-47f2-ac10-70767ebd565d",
   "metadata": {},
   "source": [
    "# Introdução\n",
    "Objetivo: Entender conceito de ponto linha e polígono.\n"
   ]
  },
  {
   "cell_type": "code",
   "execution_count": 32,
   "id": "e374efde-6d5a-446b-bb1a-48bde84d9c22",
   "metadata": {},
   "outputs": [],
   "source": [
    "# Importando a biblioteca shapely \n",
    "from shapely.geometry import Point, LineString, Polygon;"
   ]
  },
  {
   "cell_type": "markdown",
   "id": "32be85b6-6b08-42cf-968e-8c67d0ecdf68",
   "metadata": {},
   "source": [
    "## Pontos\n",
    "Formado por uma coordenada x e y. E em alguns casos inclui a coordenada z, exemplo altitude."
   ]
  },
  {
   "cell_type": "code",
   "execution_count": 34,
   "id": "2b677e6f-f3fc-4fb0-a62e-e3d9f94444e4",
   "metadata": {},
   "outputs": [],
   "source": [
    "# Pontos\n",
    "pontoA = Point(4.4, 8.4)\n",
    "pontoB = Point(-5.3,-10.3)\n",
    "pontoC = Point(8.5,-3.8)\n",
    "pontoD = Point(12.7, 15.0, 2)"
   ]
  },
  {
   "cell_type": "code",
   "execution_count": 36,
   "id": "762e5648-5390-4322-981f-5d0fe80b0bb2",
   "metadata": {},
   "outputs": [
    {
     "name": "stdout",
     "output_type": "stream",
     "text": [
      "<class 'shapely.geometry.point.Point'>\n",
      "POINT (4.4 8.4)\n"
     ]
    }
   ],
   "source": [
    "print(type(pontoA))\n",
    "print(pontoA)"
   ]
  },
  {
   "cell_type": "code",
   "execution_count": 37,
   "id": "e32379a1-8adc-4c0d-b2c9-ea5077f33f52",
   "metadata": {},
   "outputs": [
    {
     "name": "stdout",
     "output_type": "stream",
     "text": [
      "Obtendo coordenadas do ponto A\n",
      "(array('d', [4.4]), array('d', [8.4]))\n"
     ]
    }
   ],
   "source": [
    "## Coordenadas\n",
    "print((\"Obtendo coordenadas do ponto A\"))\n",
    "print(pontoA.coords.xy)"
   ]
  },
  {
   "cell_type": "code",
   "execution_count": 9,
   "id": "3b981f40-997b-4136-9f16-8e3da40f3461",
   "metadata": {},
   "outputs": [
    {
     "name": "stdout",
     "output_type": "stream",
     "text": [
      "Obtendo distância do ponto B até o A\n",
      "21.066086489901252\n"
     ]
    }
   ],
   "source": [
    "## Distância\n",
    "print('Obtendo distância do ponto B até o A')\n",
    "print(pontoB.distance(pontoA))"
   ]
  },
  {
   "cell_type": "markdown",
   "id": "f5e33a01-6f7e-4571-a4db-9579f8793742",
   "metadata": {},
   "source": [
    "## Linestring\n",
    "### Estrutura: \n",
    "<code>LineString([(x,y), (x,y), (x,y)])</code> <br/>\n",
    "Resumindo: Um array de coordenadas"
   ]
  },
  {
   "cell_type": "code",
   "execution_count": 10,
   "id": "d7508484-60e5-48de-999a-bce45ab54155",
   "metadata": {},
   "outputs": [
    {
     "data": {
      "image/svg+xml": [
       "<svg xmlns=\"http://www.w3.org/2000/svg\" xmlns:xlink=\"http://www.w3.org/1999/xlink\" width=\"100.0\" height=\"100.0\" viewBox=\"-6.048 -11.048 15.296 20.195999999999998\" preserveAspectRatio=\"xMinYMin meet\"><g transform=\"matrix(1,0,0,-1,0,-1.9000000000000004)\"><polyline fill=\"none\" stroke=\"#66cc99\" stroke-width=\"0.40391999999999995\" points=\"4.4,8.4 -5.3,-10.3 8.5,-3.8\" opacity=\"0.8\" /></g></svg>"
      ],
      "text/plain": [
       "<LINESTRING (4.4 8.4, -5.3 -10.3, 8.5 -3.8)>"
      ]
     },
     "execution_count": 10,
     "metadata": {},
     "output_type": "execute_result"
    }
   ],
   "source": [
    "linhaABC = LineString([pontoA, pontoB, pontoC])\n",
    "linhaABC"
   ]
  },
  {
   "cell_type": "code",
   "execution_count": 11,
   "id": "c20ba528-ee7c-42f9-90d4-aaea6d60bff2",
   "metadata": {},
   "outputs": [
    {
     "name": "stdout",
     "output_type": "stream",
     "text": [
      "LINESTRING (4.4 8.4, -5.3 -10.3, 8.5 -3.8)\n"
     ]
    }
   ],
   "source": [
    "print(linhaABC)"
   ]
  },
  {
   "cell_type": "code",
   "execution_count": 18,
   "id": "8a7d1045-2a4b-4fb4-bfe1-ac41d9be8115",
   "metadata": {},
   "outputs": [
    {
     "data": {
      "image/svg+xml": [
       "<svg xmlns=\"http://www.w3.org/2000/svg\" xmlns:xlink=\"http://www.w3.org/1999/xlink\" width=\"100.0\" height=\"100.0\" viewBox=\"-5.772 -9.171999999999999 11.644 12.744\" preserveAspectRatio=\"xMinYMin meet\"><g transform=\"matrix(1,0,0,-1,0,-5.599999999999999)\"><polyline fill=\"none\" stroke=\"#66cc99\" stroke-width=\"0.25488\" points=\"0.0,3.1 5.4,-2.1 -5.3,-8.7\" opacity=\"0.8\" /></g></svg>"
      ],
      "text/plain": [
       "<LINESTRING (0 3.1, 5.4 -2.1, -5.3 -8.7)>"
      ]
     },
     "execution_count": 18,
     "metadata": {},
     "output_type": "execute_result"
    }
   ],
   "source": [
    "# Também é possível inserir as coordenas individualmente\n",
    "linha2 = LineString([(0.0, 3.1), (5.4, -2.1), (-5.3, - 8.7)])\n",
    "linha2"
   ]
  },
  {
   "cell_type": "code",
   "execution_count": 17,
   "id": "22500f8e-8213-4384-82c1-10f9b72b2037",
   "metadata": {},
   "outputs": [
    {
     "name": "stdout",
     "output_type": "stream",
     "text": [
      "<class 'shapely.geometry.linestring.LineString'>\n",
      "LINESTRING (0 3.1, 5.4 -2.1, -5.3 -8.7)\n"
     ]
    }
   ],
   "source": [
    "print(type(linha2))\n",
    "print(linha2)"
   ]
  },
  {
   "cell_type": "code",
   "execution_count": 20,
   "id": "77f3f2ab-122c-4d71-a087-e565ce82a337",
   "metadata": {},
   "outputs": [
    {
     "data": {
      "text/plain": [
       "array('d', [3.1, -2.1, -8.7])"
      ]
     },
     "execution_count": 20,
     "metadata": {},
     "output_type": "execute_result"
    }
   ],
   "source": [
    "# Também é possível extrair a posição das tuplas\n",
    "linha2.xy[0]\n",
    "linha2.xy[1]"
   ]
  },
  {
   "cell_type": "code",
   "execution_count": 23,
   "id": "70a81dc0-0b63-4fc6-90e1-5f79a663c184",
   "metadata": {},
   "outputs": [
    {
     "name": "stdout",
     "output_type": "stream",
     "text": [
      "20.068459751459244\n",
      "36.32026624497166\n"
     ]
    }
   ],
   "source": [
    "# É possível calcular a distância de uma linha\n",
    "print(linha2.length)\n",
    "print(linhaABC.length)"
   ]
  },
  {
   "cell_type": "code",
   "execution_count": 26,
   "id": "e1e655f0-c322-4341-bb6c-85df6ee2aea7",
   "metadata": {},
   "outputs": [
    {
     "data": {
      "image/svg+xml": [
       "<svg xmlns=\"http://www.w3.org/2000/svg\" xmlns:xlink=\"http://www.w3.org/1999/xlink\" width=\"100.0\" height=\"100.0\" viewBox=\"-0.5890187426772056 -4.511944229106852 2.0 2.0000000000000004\" preserveAspectRatio=\"xMinYMin meet\"><g transform=\"matrix(1,0,0,-1,0,-7.023888458213705)\"><circle cx=\"0.41098125732279445\" cy=\"-3.511944229106852\" r=\"0.06000000000000001\" stroke=\"#555555\" stroke-width=\"0.020000000000000004\" fill=\"#66cc99\" opacity=\"0.6\" /></g></svg>"
      ],
      "text/plain": [
       "<POINT (0.411 -3.512)>"
      ]
     },
     "execution_count": 26,
     "metadata": {},
     "output_type": "execute_result"
    }
   ],
   "source": [
    "linhaABC.centroid"
   ]
  },
  {
   "cell_type": "code",
   "execution_count": 25,
   "id": "cddd56b0-d03e-4f95-acc3-80a42a8e7ae2",
   "metadata": {},
   "outputs": [
    {
     "name": "stdout",
     "output_type": "stream",
     "text": [
      "POINT (0.4109812573227944 -3.511944229106852)\n"
     ]
    }
   ],
   "source": [
    "print(linhaABC.centroid)"
   ]
  },
  {
   "cell_type": "markdown",
   "id": "c6b898ff-fe34-492e-8369-ff743d1ab352",
   "metadata": {},
   "source": [
    "## Polígonos\n",
    "É uma tupla de coordenadas, assim como uma linha, com o diferencial que a última coordenada é igual a primeira (fechamento) <br/>\n",
    "Estrutura: <code>Polygon([(x,y), (x,y), (x,y)])</code> <br/>\n",
    "Ele entende que se trata de um objeto do tipo polígono, portanto ele repete automaticamente a última coordenada"
   ]
  },
  {
   "cell_type": "code",
   "execution_count": 27,
   "id": "db6284be-0b88-4422-b139-e24595efa6db",
   "metadata": {},
   "outputs": [
    {
     "data": {
      "image/svg+xml": [
       "<svg xmlns=\"http://www.w3.org/2000/svg\" xmlns:xlink=\"http://www.w3.org/1999/xlink\" width=\"100.0\" height=\"100.0\" viewBox=\"-5.772 -9.171999999999999 11.644 12.744\" preserveAspectRatio=\"xMinYMin meet\"><g transform=\"matrix(1,0,0,-1,0,-5.599999999999999)\"><path fill-rule=\"evenodd\" fill=\"#66cc99\" stroke=\"#555555\" stroke-width=\"0.25488\" opacity=\"0.6\" d=\"M 0.0,3.1 L 5.4,-2.1 L -5.3,-8.7 L 0.0,3.1 z\" /></g></svg>"
      ],
      "text/plain": [
       "<POLYGON ((0 3.1, 5.4 -2.1, -5.3 -8.7, 0 3.1))>"
      ]
     },
     "execution_count": 27,
     "metadata": {},
     "output_type": "execute_result"
    }
   ],
   "source": [
    "poly1 = Polygon([(0.0, 3.1), (5.4, -2.1), (-5.3, - 8.7)])\n",
    "poly1"
   ]
  },
  {
   "cell_type": "code",
   "execution_count": 29,
   "id": "efa8f2c3-88da-45d0-bf39-de067cf3f8e9",
   "metadata": {},
   "outputs": [
    {
     "name": "stdout",
     "output_type": "stream",
     "text": [
      "POLYGON ((0 3.1, 5.4 -2.1, -5.3 -8.7, 0 3.1))\n"
     ]
    }
   ],
   "source": [
    "print(poly1)"
   ]
  },
  {
   "cell_type": "code",
   "execution_count": 35,
   "id": "934e187a-cd7b-4c3c-8cea-83852185d1bb",
   "metadata": {},
   "outputs": [],
   "source": [
    "lista_coordenadasABCD = [pontoA, pontoB, pontoC, pontoD]"
   ]
  },
  {
   "cell_type": "code",
   "execution_count": 38,
   "id": "df1563ba-e1b9-467a-beb5-89e5761e36cc",
   "metadata": {},
   "outputs": [
    {
     "ename": "ValueError",
     "evalue": "setting an array element with a sequence. The requested array has an inhomogeneous shape after 1 dimensions. The detected shape was (4,) + inhomogeneous part.",
     "output_type": "error",
     "traceback": [
      "\u001b[1;31m---------------------------------------------------------------------------\u001b[0m",
      "\u001b[1;31mValueError\u001b[0m                                Traceback (most recent call last)",
      "Cell \u001b[1;32mIn[38], line 1\u001b[0m\n\u001b[1;32m----> 1\u001b[0m poly2 \u001b[38;5;241m=\u001b[39m \u001b[43mPolygon\u001b[49m\u001b[43m(\u001b[49m\u001b[43mlista_coordenadasABCD\u001b[49m\u001b[43m)\u001b[49m\n",
      "File \u001b[1;32m~\\Documentos\\geoprocessamento\\python_gis\\.venv\\Lib\\site-packages\\shapely\\geometry\\polygon.py:230\u001b[0m, in \u001b[0;36mPolygon.__new__\u001b[1;34m(self, shell, holes)\u001b[0m\n\u001b[0;32m    228\u001b[0m     \u001b[38;5;28;01mreturn\u001b[39;00m shell\n\u001b[0;32m    229\u001b[0m \u001b[38;5;28;01melse\u001b[39;00m:\n\u001b[1;32m--> 230\u001b[0m     shell \u001b[38;5;241m=\u001b[39m \u001b[43mLinearRing\u001b[49m\u001b[43m(\u001b[49m\u001b[43mshell\u001b[49m\u001b[43m)\u001b[49m\n\u001b[0;32m    232\u001b[0m \u001b[38;5;28;01mif\u001b[39;00m holes \u001b[38;5;129;01mis\u001b[39;00m \u001b[38;5;129;01mnot\u001b[39;00m \u001b[38;5;28;01mNone\u001b[39;00m:\n\u001b[0;32m    233\u001b[0m     \u001b[38;5;28;01mif\u001b[39;00m \u001b[38;5;28mlen\u001b[39m(holes) \u001b[38;5;241m==\u001b[39m \u001b[38;5;241m0\u001b[39m:\n\u001b[0;32m    234\u001b[0m         \u001b[38;5;66;03m# shapely constructor cannot handle holes=[]\u001b[39;00m\n",
      "File \u001b[1;32m~\\Documentos\\geoprocessamento\\python_gis\\.venv\\Lib\\site-packages\\shapely\\geometry\\polygon.py:93\u001b[0m, in \u001b[0;36mLinearRing.__new__\u001b[1;34m(self, coordinates)\u001b[0m\n\u001b[0;32m     90\u001b[0m     \u001b[38;5;28;01melse\u001b[39;00m:\n\u001b[0;32m     91\u001b[0m         \u001b[38;5;28;01mreturn\u001b[39;00m [\u001b[38;5;28mfloat\u001b[39m(c) \u001b[38;5;28;01mfor\u001b[39;00m c \u001b[38;5;129;01min\u001b[39;00m o]\n\u001b[1;32m---> 93\u001b[0m coordinates \u001b[38;5;241m=\u001b[39m \u001b[43mnp\u001b[49m\u001b[38;5;241;43m.\u001b[39;49m\u001b[43marray\u001b[49m\u001b[43m(\u001b[49m\u001b[43m[\u001b[49m\u001b[43m_coords\u001b[49m\u001b[43m(\u001b[49m\u001b[43mo\u001b[49m\u001b[43m)\u001b[49m\u001b[43m \u001b[49m\u001b[38;5;28;43;01mfor\u001b[39;49;00m\u001b[43m \u001b[49m\u001b[43mo\u001b[49m\u001b[43m \u001b[49m\u001b[38;5;129;43;01min\u001b[39;49;00m\u001b[43m \u001b[49m\u001b[43mcoordinates\u001b[49m\u001b[43m]\u001b[49m\u001b[43m)\u001b[49m\n\u001b[0;32m     94\u001b[0m \u001b[38;5;28;01mif\u001b[39;00m \u001b[38;5;129;01mnot\u001b[39;00m np\u001b[38;5;241m.\u001b[39missubdtype(coordinates\u001b[38;5;241m.\u001b[39mdtype, np\u001b[38;5;241m.\u001b[39mnumber):\n\u001b[0;32m     95\u001b[0m     \u001b[38;5;66;03m# conversion of coords to 2D array failed, this might be due\u001b[39;00m\n\u001b[0;32m     96\u001b[0m     \u001b[38;5;66;03m# to inconsistent coordinate dimensionality\u001b[39;00m\n\u001b[0;32m     97\u001b[0m     \u001b[38;5;28;01mraise\u001b[39;00m \u001b[38;5;167;01mValueError\u001b[39;00m(\u001b[38;5;124m\"\u001b[39m\u001b[38;5;124mInconsistent coordinate dimensionality\u001b[39m\u001b[38;5;124m\"\u001b[39m)\n",
      "\u001b[1;31mValueError\u001b[0m: setting an array element with a sequence. The requested array has an inhomogeneous shape after 1 dimensions. The detected shape was (4,) + inhomogeneous part."
     ]
    }
   ],
   "source": [
    "poly2 = Polygon(lista_coordenadasABCD)"
   ]
  },
  {
   "cell_type": "code",
   "execution_count": null,
   "id": "bd9584f6-131c-4c16-859b-980bb68633cb",
   "metadata": {},
   "outputs": [],
   "source": []
  }
 ],
 "metadata": {
  "kernelspec": {
   "display_name": "Python 3 (ipykernel)",
   "language": "python",
   "name": "python3"
  },
  "language_info": {
   "codemirror_mode": {
    "name": "ipython",
    "version": 3
   },
   "file_extension": ".py",
   "mimetype": "text/x-python",
   "name": "python",
   "nbconvert_exporter": "python",
   "pygments_lexer": "ipython3",
   "version": "3.12.4"
  }
 },
 "nbformat": 4,
 "nbformat_minor": 5
}
